{
  "nbformat": 4,
  "nbformat_minor": 0,
  "metadata": {
    "colab": {
      "provenance": []
    },
    "kernelspec": {
      "name": "python3",
      "display_name": "Python 3"
    },
    "language_info": {
      "name": "python"
    }
  },
  "cells": [
    {
      "cell_type": "markdown",
      "source": [
        "#PYTHON DATA TYPES AND STRUCTURES"
      ],
      "metadata": {
        "id": "G7cI8y4UP-ga"
      }
    },
    {
      "cell_type": "markdown",
      "source": [
        "#Theory Questions"
      ],
      "metadata": {
        "id": "M4ZVRZW-RMAX"
      }
    },
    {
      "cell_type": "markdown",
      "source": [
        "#1.What are data structures, and why are they important?\n",
        "-> Data structures are specialized ways of organizing, managing, and storing data in a computer so that it can be accessed and modified efficiently. They provide a foundation for implementing algorithms and handling data in a structured way, which is essential for building efficient and scalable software.\n",
        "\n",
        "Common Types of Data Structures:\n",
        "\n",
        "1. Linear Data Structures:\n",
        "\n",
        "Arrays: Collection of elements stored at contiguous memory locations.\n",
        "\n",
        "Linked Lists: A sequence of nodes where each node contains data and a pointer to the next node.\n",
        "\n",
        "Stacks: Follows the Last In, First Out (LIFO) principle.\n",
        "\n",
        "Queues: Follows the First In, First Out (FIFO) principle.\n",
        "\n",
        "\n",
        "\n",
        "2. Non-Linear Data Structures:\n",
        "\n",
        "Trees: Hierarchical structure with nodes connected by edges (e.g., binary trees, binary search trees).\n",
        "\n",
        "Graphs: A set of vertices connected by edges, used for representing networks.\n",
        "\n",
        "\n",
        "\n",
        "3. Hash-based Structures:\n",
        "\n",
        "Hash Tables: Use a hash function to map keys to values for quick data retrieval.\n",
        "\n",
        "\n",
        "\n",
        "4. Advanced Structures:\n",
        "\n",
        "Heaps: Specialized tree-based structure for priority queues.\n",
        "\n",
        "Tries: Used for searching strings, such as in auto-complete systems.\n",
        "\n",
        "\n",
        "\n",
        "\n",
        "Importance of Data Structures:\n",
        "\n",
        "1. Efficiency: Well-designed data structures make algorithms faster by reducing time complexity.\n",
        "\n",
        "\n",
        "2. Scalability: Enable programs to handle large volumes of data effectively.\n",
        "\n",
        "\n",
        "3. Memory Management: Optimize the use of memory, avoiding waste or bottlenecks.\n",
        "\n",
        "\n",
        "4. Problem Solving: Facilitate the implementation of complex problems, such as pathfinding or data analysis.\n",
        "\n",
        "\n",
        "5. Reusability: Provide reusable building blocks that can be employed across multiple applications (e.g., libraries).\n",
        "\n",
        "\n",
        "\n",
        "Examples of Applications:\n",
        "\n",
        "Arrays are used in image processing or storing records.\n",
        "\n",
        "Graphs model real-world networks like social media connections or traffic systems.\n",
        "\n",
        "Hash Tables power fast lookups, such as dictionaries in Python or caching systems.\n",
        "\n",
        "Queues and Stacks are vital for task scheduling and backtracking problems.\n",
        "\n",
        "\n",
        "Understanding data structures is crucial for effective programming and system design, as they dictate how efficiently tasks can be performed on the data."
      ],
      "metadata": {
        "id": "IO34IX6ZQ0DQ"
      }
    },
    {
      "cell_type": "markdown",
      "source": [
        "#2.Explain the difference between mutable and immutable data types with examples.\n",
        "->The difference between mutable and immutable data types lies in whether their value can be changed after the object is created.\n",
        "\n",
        "1. Mutable Data Types:\n",
        "\n",
        "Mutable data types allow their content to be modified after the object is created.\n",
        "\n",
        "Examples in Python:\n",
        "\n",
        "List:\n",
        "\n",
        "my_list = [1, 2, 3]\n",
        "my_list.append(4)  # Modifies the original list\n",
        "print(my_list)  # Output: [1, 2, 3, 4]\n",
        "\n",
        "Dictionary:\n",
        "\n",
        "my_dict = {'a': 1, 'b': 2}\n",
        "my_dict['c'] = 3  # Adds a new key-value pair\n",
        "print(my_dict)  # Output: {'a': 1, 'b': 2, 'c': 3}\n",
        "\n",
        "\n",
        "Characteristics:\n",
        "\n",
        "Changes affect the original object.\n",
        "\n",
        "Useful when the object needs to be updated or manipulated repeatedly.\n",
        "\n",
        "\n",
        "\n",
        "---\n",
        "\n",
        "2. Immutable Data Types:\n",
        "\n",
        "Immutable data types do not allow changes to their content after the object is created. Any modification creates a new object.\n",
        "\n",
        "Examples in Python:\n",
        "\n",
        "String:\n",
        "\n",
        "my_string = \"Hello\"\n",
        "my_string = my_string + \" World\"  # Creates a new string\n",
        "print(my_string)  # Output: \"Hello World\"\n",
        "\n",
        "Tuple:\n",
        "\n",
        "my_tuple = (1, 2, 3)\n",
        " my_tuple[0] = 4  # This will raise an error: 'tuple' object does not support item assignment\n",
        "\n",
        "\n",
        "Characteristics:\n",
        "\n",
        "Changes result in a new object being created.\n",
        "\n",
        "Often used for fixed or constant data to ensure data integrity\n",
        "\n",
        "---\n",
        "\n",
        "Why it Matters:\n",
        "\n",
        "Mutability is useful when frequent updates are required.\n",
        "\n",
        "Immutability provides safety and predictability, especially in multithreading and functional programming contexts."
      ],
      "metadata": {
        "id": "Rn3rsB9PQz7v"
      }
    },
    {
      "cell_type": "markdown",
      "source": [
        "#3. What are the main differences between lists and tuples in Python?\n",
        "->Lists and tuples are fundamental data structures in Python, both used to store collections of items, but they have key differences.\n",
        "\n",
        "1. Mutability:\n",
        "\n",
        "Lists are mutable, meaning their elements can be changed, added, or removed after creation.\n",
        "\n",
        "Tuples are immutable, meaning their elements cannot be modified after creation.\n",
        "\n",
        "\n",
        "\n",
        "2. Syntax:\n",
        "\n",
        "Lists use square brackets ([ ]).\n",
        "\n",
        "Tuples use parentheses (( )).\n",
        "\n",
        "\n",
        "\n",
        "3. Performance:\n",
        "\n",
        "Tuples are faster than lists due to their immutability.\n",
        "\n",
        "Lists have higher overhead because they support dynamic resizing and modifications.\n",
        "\n",
        "\n",
        "\n",
        "4. Use Cases:\n",
        "\n",
        "Use lists for collections that require frequent updates or dynamic changes.\n",
        "\n",
        "Use tuples for fixed collections or when you need hashable objects (e.g., as dictionary keys).\n",
        "\n",
        "\n",
        "\n",
        "5. Methods:\n",
        "\n",
        "Lists support numerous methods (e.g., append(), remove(), sort()).\n",
        "\n",
        "Tuples have limited methods (e.g., count(), index()).\n",
        "\n",
        "\n",
        "\n",
        "\n",
        "Example:\n",
        "\n",
        "my_list = [1, 2, 3]   # Mutable: Can add or modify elements\n",
        "my_tuple = (1, 2, 3)  # Immutable: Cannot be modified\n",
        "\n",
        "In summary, lists are flexible and mutable, while tuples are fixed and optimized for performance and immutability."
      ],
      "metadata": {
        "id": "PXLwbTvYSoGT"
      }
    },
    {
      "cell_type": "markdown",
      "source": [
        "#4.Describe how dictionaries store data.\n",
        "->Dictionaries in Python store data as key-value pairs using a structure called a hash table. This design allows for fast data retrieval based on keys. Here's how it works:\n",
        "\n",
        "\n",
        "---\n",
        "\n",
        "1. Key-Value Pair Structure\n",
        "\n",
        "Keys: Unique and immutable (e.g., strings, numbers, tuples).\n",
        "\n",
        "Values: Can be of any data type and do not need to be unique.\n",
        "\n",
        "\n",
        "Example:\n",
        "\n",
        "my_dict = {\"name\": \"Alice\", \"age\": 30, \"city\": \"New York\"}\n",
        "\n",
        "In this dictionary:\n",
        "\n",
        "Keys are \"name\", \"age\", and \"city\".\n",
        "\n",
        "Values are \"Alice\", 30, and \"New York\".\n",
        "\n",
        "\n",
        "\n",
        "---\n",
        "\n",
        "2. Hash Table Implementation\n",
        "\n",
        "Dictionaries use a hash function to map each key to a specific index in an underlying array (or bucket).\n",
        "\n",
        "The hash function generates a unique hash code for each key, which determines where the key-value pair is stored.\n",
        "\n",
        "\n",
        "\n",
        "---\n",
        "\n",
        "3. Handling Collisions\n",
        "\n",
        "If two keys generate the same hash (a collision), Python uses a technique like chaining or open addressing to resolve it, ensuring all data is stored correctly.\n",
        "\n",
        "\n",
        "\n",
        "---\n",
        "\n",
        "4. Key Lookup\n",
        "\n",
        "To retrieve a value, the hash function calculates the hash of the key, locates the corresponding index, and retrieves the value.\n",
        "\n",
        "This makes lookups, insertions, and deletions very fast, with an average time complexity of O(1).\n",
        "\n",
        "\n",
        "\n",
        "---\n",
        "\n",
        "Summary:\n",
        "\n",
        "Dictionaries store data as key-value pairs in a hash table, leveraging hash functions for fast and efficient access."
      ],
      "metadata": {
        "id": "b4cDbhD8TTlP"
      }
    },
    {
      "cell_type": "markdown",
      "source": [
        "#5.Why might you use a set instead of a list in Python?\n",
        "->You might use a set instead of a list in Python in scenarios where certain properties of sets provide distinct advantages:\n",
        "\n",
        "\n",
        "---\n",
        "\n",
        "1. Uniqueness of Elements\n",
        "\n",
        "Set: Automatically ensures all elements are unique. Duplicate entries are not allowed.\n",
        "\n",
        "List: Can contain duplicates, and you need additional logic to ensure uniqueness.\n",
        "\n",
        "\n",
        "Example:\n",
        "\n",
        "my_list = [1, 2, 2, 3]\n",
        "unique_set = set(my_list)  # {1, 2, 3}\n",
        "\n",
        "Use Case: When you need a collection of unique items, such as IDs or usernames.\n",
        "\n",
        "\n",
        "---\n",
        "\n",
        "2. Fast Membership Testing\n",
        "\n",
        "Set: Performs membership checks (x in set) in O(1) time on average due to hashing.\n",
        "\n",
        "List: Membership checks (x in list) take O(n) time because it requires a linear search.\n",
        "\n",
        "\n",
        "Example:\n",
        "\n",
        "my_set = {1, 2, 3}\n",
        "print(2 in my_set)  # Fast check\n",
        "\n",
        "Use Case: For tasks like filtering duplicates or checking item existence.\n",
        "\n",
        "\n",
        "---\n",
        "\n",
        "3. Built-in Set Operations\n",
        "\n",
        "Set: Supports mathematical set operations like union, intersection, difference, and symmetric difference.\n",
        "\n",
        "List: Requires manual implementation for such operations.\n",
        "\n",
        "\n",
        "Example:\n",
        "\n",
        "set1 = {1, 2, 3}\n",
        "set2 = {2, 3, 4}\n",
        "print(set1 & set2)  # Intersection: {2, 3}\n",
        "\n",
        "Use Case: Ideal for comparisons, such as finding common or distinct items between collections.\n",
        "\n",
        "\n",
        "---\n",
        "\n",
        "4. Performance Considerations\n",
        "\n",
        "Set: Optimized for operations like adding, removing, and testing for membership.\n",
        "\n",
        "List: Performs slower for these operations in larger datasets.\n",
        "\n",
        "\n",
        "\n",
        "---\n",
        "\n",
        "When to Use a Set:\n",
        "\n",
        "You need unique elements.\n",
        "\n",
        "You frequently check for membership.\n",
        "\n",
        "You need to perform set operations like unions or intersections.\n",
        "\n",
        "\n",
        "However, remember that sets are unordered and do not support indexing or slicing, so if you need ordered or indexed data, a list is more appropriate."
      ],
      "metadata": {
        "id": "UG77cCZmTTjH"
      }
    },
    {
      "cell_type": "markdown",
      "source": [
        "#6. What is a string in Python, and how is it different from a list?\n",
        "->A string in Python is an immutable sequence of characters used to store and manipulate textual data. Strings are enclosed in quotes (' ', \" \", ''' ''', or \"\"\" \"\"\"). Being immutable means the content of a string cannot be modified after creation. Strings are commonly used for tasks like representing words, sentences, or textual data in programs.\n",
        "\n",
        "A list, on the other hand, is a mutable sequence that can store elements of any data type, including integers, floats, strings, or even other lists. Lists are defined using square brackets ([ ]) and are versatile because they allow adding, removing, or modifying elements.\n",
        "\n",
        "Key Differences:\n",
        "\n",
        "1. Mutability: Strings are immutable, while lists are mutable. In strings, you cannot modify individual characters, but you can update or replace a list's elements.\n",
        "\n",
        "\n",
        "2. Data Type: Strings store only characters, whereas lists can hold elements of mixed data types.\n",
        "\n",
        "\n",
        "3. Syntax: Strings use quotes, while lists use square brackets.\n",
        "\n",
        "\n",
        "4. Methods: Strings have methods like split(), join(), and replace(), while lists support methods like append(), remove(), and pop().\n",
        "\n",
        "\n",
        "\n",
        "Example:\n",
        "\n",
        "string = \"hello\"\n",
        "string[0] = \"H\"  # Error: Strings are immutable\n",
        "\n",
        "my_list = [1, \"hello\", 3.5]\n",
        "my_list[0] = 2  # Lists can be modified\n",
        "\n",
        "Strings are ideal for text, while lists are better for collections of varied or modifiable data."
      ],
      "metadata": {
        "id": "dAyNvhS-TTgv"
      }
    },
    {
      "cell_type": "markdown",
      "source": [
        "#7.How do tuples ensure data integrity in Python?\n",
        "->Tuples ensure data integrity in Python by being immutable, meaning their contents cannot be altered after creation. This property makes tuples reliable for scenarios where data consistency is critical.\n",
        "\n",
        "Ways Tuples Ensure Data Integrity:\n",
        "\n",
        "1. Immutability:\n",
        "\n",
        "Once a tuple is created, its elements cannot be modified, added, or removed.\n",
        "\n",
        "This prevents accidental or intentional changes to the data, ensuring its integrity throughout the program.\n",
        "\n",
        "Example:\n",
        "\n",
        "my_tuple = (1, 2, 3)\n",
        " my_tuple[0] = 10  # Error: Tuples are immutable\n",
        "\n",
        "\n",
        "\n",
        "2. Hashability:\n",
        "\n",
        "Tuples are hashable if their elements are also hashable (e.g., integers, strings, other tuples).\n",
        "\n",
        "This allows tuples to be used as keys in dictionaries or elements in sets, ensuring their values remain consistent and traceable.\n",
        "\n",
        "Example:\n",
        "\n",
        "my_dict = {(1, 2): \"value\"}\n",
        "print(my_dict[(1, 2)])  # Output: \"value\"\n",
        "\n",
        "\n",
        "\n",
        "3. Predictable Behavior:\n",
        "\n",
        "Because tuples cannot change, their behavior is predictable, reducing the risk of bugs in programs where data must remain constant.\n",
        "\n",
        "\n",
        "\n",
        "4. Logical Representation of Fixed Data:\n",
        "\n",
        "Tuples are suitable for representing unchanging collections, such as geographic coordinates, configuration settings, or database keys.\n",
        "\n",
        "\n",
        "\n",
        "\n",
        "Use Cases:\n",
        "\n",
        "Storing constants or fixed sets of data.\n",
        "\n",
        "Using as keys in dictionaries for secure lookups.\n",
        "\n",
        "Ensuring that function arguments remain unchanged.\n",
        "\n",
        "\n",
        "By being immutable and hashable, tuples ensure data remains consistent, making them a reliable choice for secure and predictable data handling."
      ],
      "metadata": {
        "id": "VYoWZ-pmTTcK"
      }
    },
    {
      "cell_type": "markdown",
      "source": [
        "#8.What is a hash table, and how does it relate to dictionaries in Python?\n",
        "->A hash table is a data structure that allows for efficient data retrieval, insertion, and deletion using a technique called hashing. It works by mapping keys to specific values using a hash function, which converts the key into an index in an underlying array or table. This index is where the corresponding value is stored or retrieved from.\n",
        "\n",
        "How Hash Tables Work:\n",
        "\n",
        "1. Hash Function: A hash function takes a key (e.g., a string or number) and converts it into an index (usually an integer) in the hash table. This index determines where the corresponding value is stored in the array.\n",
        "\n",
        "\n",
        "2. Buckets: The hash table consists of an array of \"buckets\" or slots, each capable of holding a value. When a key is hashed, its value is placed into the bucket corresponding to the index.\n",
        "\n",
        "\n",
        "3. Handling Collisions: Sometimes, two keys may hash to the same index, resulting in a collision. Various techniques (like chaining or open addressing) are used to handle collisions and store multiple items in the same bucket.\n",
        "\n",
        "\n",
        "\n",
        "\n",
        "---\n",
        "\n",
        "Relation to Python Dictionaries:\n",
        "\n",
        "In Python, dictionaries are implemented using a hash table under the hood. When you use a dictionary, the keys are hashed using a hash function, and the values are stored at the corresponding indices in the hash table. This allows for average O(1) time complexity for lookups, insertions, and deletions, making dictionaries highly efficient.\n",
        "\n",
        "Example:\n",
        "\n",
        "my_dict = {\"name\": \"Alice\", \"age\": 30}\n",
        "\n",
        "The key \"name\" is hashed and the value \"Alice\" is stored in the corresponding index.\n",
        " Similarly, \"age\" is hashed and the value 30 is stored in its corresponding index.\n",
        "\n",
        "Why It Matters:\n",
        "\n",
        "The use of hash tables makes Python dictionaries very fast for retrieving data based on keys.\n",
        "\n",
        "Hashing ensures that each key can be directly mapped to a specific location in memory, making operations like looking up a value or adding a new key-value pair very efficient.\n",
        "\n",
        "\n",
        "In summary, Python dictionaries are built on the concept of hash tables, providing fast and efficient data access through the use of hashing to map keys to values."
      ],
      "metadata": {
        "id": "ThZQ2V4kTTQe"
      }
    },
    {
      "cell_type": "markdown",
      "source": [
        "#9.Can lists contain different data types in Python?\n",
        "->Yes, lists can contain different data types in Python. Unlike arrays in some other programming languages that typically require elements of the same type, Python lists are heterogeneous, meaning they can store elements of various data types, such as integers, strings, floats, and even other lists or custom objects.\n",
        "\n",
        "Example of a list with different data types:\n",
        "\n",
        "my_list = [1, \"hello\", 3.14, True, [1, 2, 3], {\"key\": \"value\"}]\n",
        "\n",
        "In this list:\n",
        "\n",
        "1 is an integer.\n",
        "\n",
        "\"hello\" is a string.\n",
        "\n",
        "3.14 is a float.\n",
        "\n",
        "True is a boolean.\n",
        "\n",
        "[1, 2, 3] is another list (a nested list).\n",
        "\n",
        "{\"key\": \"value\"} is a dictionary.\n",
        "\n",
        "\n",
        "Advantages:\n",
        "\n",
        "Flexibility: You can store a mix of data types in the same list, making it versatile for various use cases.\n",
        "\n",
        "Ease of Use: Python's dynamic typing allows lists to handle different types without requiring explicit type declarations.\n",
        "\n",
        "\n",
        "Use Case Example:\n",
        "\n",
        "Lists containing multiple data types are useful when you need to represent structured data, like a collection of mixed information (e.g., a person's name, age, and address) or when working with complex objects in a program."
      ],
      "metadata": {
        "id": "NoRL_hJUVkod"
      }
    },
    {
      "cell_type": "markdown",
      "source": [
        "#10.Explain why strings are immutable in Python?\n",
        "->Strings in Python are immutable for several important reasons related to performance, memory efficiency, and consistency in the behavior of the language. Here’s a detailed explanation of why Python strings are immutable:\n",
        "\n",
        "1. Performance Optimization (Efficiency)\n",
        "\n",
        "Memory Sharing: When strings are immutable, Python can share memory space for identical string values. This means if two variables contain the same string, Python doesn’t need to store two copies of the same string in memory. Instead, it can reference the same memory location, leading to memory efficiency.\n",
        "\n",
        "Interning: Python often uses a technique called string interning, where common string literals are stored in a central memory location to avoid duplication and speed up lookups. This would not be possible if strings were mutable.\n",
        "\n",
        "\n",
        "a = \"hello\"\n",
        "b = \"hello\"\n",
        "print(a is b)  # Output: True, both reference the same memory location\n",
        "\n",
        "2. Data Integrity and Predictability\n",
        "\n",
        "Consistency: Immutability ensures that once a string is created, its value cannot change. This makes strings reliable in contexts where you need to guarantee that the data remains consistent and unaltered throughout the program.\n",
        "\n",
        "Safety in Multi-threading: Immutability ensures that strings are safe to use in multi-threaded environments because no thread can change a string's content. This eliminates issues that arise from modifying shared data.\n",
        "\n",
        "\n",
        "3. Hashing and Use as Dictionary Keys\n",
        "\n",
        "Hashing: Since strings are immutable, they can be used as keys in dictionaries and as elements in sets. The hash value of an object is calculated when it is created, and an immutable object guarantees that its hash will remain consistent throughout its lifetime.\n",
        "\n",
        "\n",
        "my_dict = {\"name\": \"Alice\"}\n",
        " \"name\" is immutable, so it can be reliably used as a dictionary key\n",
        "\n",
        "4. Simple and Safe Operations\n",
        "\n",
        "String Concatenation: In Python, creating a new string by concatenating two strings doesn’t modify the original strings; instead, a new string object is created. This simplifies understanding and working with strings because there is no risk of unexpected side effects from modifying a string.\n",
        "\n",
        "\n",
        "s1 = \"Hello\"\n",
        "s2 = s1 + \" World\"\n",
        "print(s1)  # Output: \"Hello\" (s1 remains unchanged)\n",
        "print(s2)  # Output: \"Hello World\" (new string created)\n",
        "\n",
        "Conclusion\n",
        "\n",
        "Strings in Python are immutable to optimize memory usage, ensure consistency and predictability, facilitate their use as dictionary keys, and simplify string operations. While this means you can't change individual characters in a string after it's created, it ensures the integrity and performance of string manipulation operations."
      ],
      "metadata": {
        "id": "CfGmskjfVklb"
      }
    },
    {
      "cell_type": "markdown",
      "source": [
        "#11.What advantages do dictionaries offer over lists for certain tasks?\n",
        "->Dictionaries in Python offer several advantages over lists for specific tasks, particularly when it comes to data access, organization, and manipulation. Here are some key advantages of using dictionaries:\n",
        "\n",
        "1. Faster Lookups (O(1) Average Time Complexity)\n",
        "\n",
        "Dictionaries are implemented using hash tables, which allow for average O(1) time complexity for lookups, insertions, and deletions.\n",
        "\n",
        "Lists, on the other hand, require O(n) time complexity for searching (if the list is unsorted) or accessing elements by value.\n",
        "\n",
        "\n",
        "Example:\n",
        "\n",
        "my_dict = {\"name\": \"Alice\", \"age\": 30}\n",
        "print(my_dict[\"name\"])  # O(1) lookup\n",
        "\n",
        "2. Key-Value Pair Storage\n",
        "\n",
        "Dictionaries store data as key-value pairs, which makes them ideal for tasks where data can be uniquely identified by a key (e.g., a dictionary of student names and their grades).\n",
        "\n",
        "Lists store elements in a sequential order, making them less efficient for tasks where data needs to be accessed or organized by a unique identifier.\n",
        "\n",
        "\n",
        "Example:\n",
        "\n",
        "my_dict = {\"student1\": \"Alice\", \"student2\": \"Bob\"}\n",
        "print(my_dict[\"student1\"])  # Directly access by key\n",
        "\n",
        "3. Better for Data with Unique Identifiers\n",
        "\n",
        "Dictionaries are particularly useful when you need to map unique identifiers (keys) to specific values, such as user IDs to user data, or product codes to product details.\n",
        "\n",
        "Lists are not designed to enforce unique keys, and searching for a specific element by value can be inefficient.\n",
        "\n",
        "\n",
        "Example:\n",
        "\n",
        "my_dict = {101: \"Laptop\", 102: \"Phone\"}\n",
        "print(my_dict[101])  # Fast access to the product name by its unique ID\n",
        "\n",
        "4. Flexible and Efficient Data Organization\n",
        "\n",
        "Dictionaries allow you to store various types of data, including lists, sets, or other dictionaries as values. This makes them ideal for organizing complex, structured data (e.g., storing student records, configurations, etc.).\n",
        "\n",
        "Lists would require additional steps and complexity to organize data in such a structured manner.\n",
        "\n",
        "\n",
        "Example:\n",
        "\n",
        "my_dict = {\"student1\": {\"name\": \"Alice\", \"grades\": [90, 85, 88]}}\n",
        "print(my_dict[\"student1\"][\"grades\"])  # Access nested data easily\n",
        "\n",
        "5. Ensuring Uniqueness of Keys\n",
        "\n",
        "Dictionaries automatically handle uniqueness of keys. If you try to insert a new key-value pair with a key that already exists, the old value will be overwritten with the new one.\n",
        "\n",
        "Lists allow duplicates, and there’s no built-in way to ensure uniqueness of elements without manually checking.\n",
        "\n",
        "\n",
        "Example:\n",
        "\n",
        "my_dict = {\"a\": 1, \"b\": 2}\n",
        "my_dict[\"a\"] = 3  # The key \"a\" is updated, not duplicated\n",
        "print(my_dict)  # Output: {'a': 3, 'b': 2}\n",
        "\n",
        "6. Efficient Deletion\n",
        "\n",
        "Dictionaries allow for fast removal of entries by key using del, and it’s easy to delete specific key-value pairs directly.\n",
        "\n",
        "Lists require iterating over the list to remove an element by value or index, which can be slower for large datasets.\n",
        "\n",
        "\n",
        "Example:\n",
        "\n",
        "my_dict = {\"name\": \"Alice\", \"age\": 30}\n",
        "del my_dict[\"age\"]  # Removes the entry with key \"age\"\n",
        "\n",
        "\n",
        "---\n",
        "\n",
        "When to Use a Dictionary Over a List:\n",
        "\n",
        "When you need fast lookups, especially when elements are identified by unique keys (e.g., ID numbers, usernames).\n",
        "\n",
        "When you need to store data in the form of key-value pairs.\n",
        "\n",
        "When the order of elements is not important but access by key is, like in configurations or mappings.\n",
        "\n",
        "When your data requires uniqueness of identifiers (keys).\n",
        "\n",
        "\n",
        "\n",
        "---\n",
        "\n",
        "In summary, dictionaries are ideal when you need efficient access to data via unique keys, when working with structured data, or when needing to ensure uniqueness of elements. Lists, on the other hand, are better suited for ordered collections of items or when you need to store sequences of values."
      ],
      "metadata": {
        "id": "kuQg2nQiVkiO"
      }
    },
    {
      "cell_type": "markdown",
      "source": [
        "#12.Describe a scenario where using a tuple would be preferable over a list.\n",
        "->A scenario where using a tuple would be preferable over a list is when you need to store a fixed collection of values that should remain constant throughout the program, ensuring data integrity and performance optimization. Here’s an example:\n",
        "\n",
        "Scenario: Storing Geographic Coordinates\n",
        "\n",
        "Imagine you are working on a program that tracks the geographic coordinates of a location. The coordinates, represented as latitude and longitude, are fixed for each location and should not be modified during the program's execution.\n",
        "\n",
        "Why Use a Tuple?\n",
        "\n",
        "Immutability: Since the geographic coordinates are not meant to change, using a tuple ensures that the data remains constant. This avoids accidental modifications and maintains data integrity.\n",
        "\n",
        "Performance: Tuples are more memory-efficient and faster for certain operations (like iteration) compared to lists because they are immutable. This can be crucial in performance-sensitive applications that deal with large datasets.\n",
        "\n",
        "Hashability: If you need to store these coordinates as keys in a dictionary or use them in a set, a tuple is required because tuples are hashable (as long as they contain only hashable elements), whereas lists are not.\n",
        "\n",
        "\n",
        "Example:\n",
        "\n",
        " Using a tuple to store geographic coordinates\n",
        "coordinates = (40.7128, -74.0060)  # Latitude and Longitude for New York City\n",
        "\n",
        " Attempting to modify the tuple (which will raise an error)\n",
        " coordinates[0] = 41.0  # Error: 'tuple' object does not support item assignment\n",
        "\n",
        " Storing coordinates in a dictionary\n",
        "locations = {coordinates: \"New York City\"}\n",
        "print(locations)\n",
        "\n",
        "In this case, the use of a tuple ensures that the coordinates remain immutable, and their hashable nature allows them to be used efficiently as dictionary keys. A list would not be appropriate because it could be modified (e.g., accidentally changing a coordinate), and it cannot be used as a dictionary key.\n",
        "\n",
        "Summary:\n",
        "\n",
        "Tuples are ideal when you need a fixed, unchangeable collection of data, such as in cases where data integrity is important (e.g., coordinates, dates, or any set of values that should remain constant), and you benefit from performance optimizations due to immutability."
      ],
      "metadata": {
        "id": "ps7P-_SWVkZa"
      }
    },
    {
      "cell_type": "markdown",
      "source": [
        "#13.How do sets handle duplicate values in Python?\n",
        "->In Python, sets automatically handle duplicate values by removing them. A set is a collection of unique elements, and it will only store one instance of each value. If you try to add a duplicate value to a set, the set will ignore it and keep only the original value.\n",
        "\n",
        "How It Works:\n",
        "\n",
        "When you add an element to a set, Python checks whether the element is already in the set.\n",
        "\n",
        "If the element is already present, it is not added again, ensuring all elements in a set are unique.\n",
        "\n",
        "If the element is not present, it is added to the set.\n",
        "\n",
        "\n",
        "Example:\n",
        "\n",
        "my_set = {1, 2, 3, 4}\n",
        "\n",
        " Adding a duplicate value (2) to the set\n",
        "my_set.add(2)\n",
        "\n",
        " The set remains unchanged since 2 is already present\n",
        "print(my_set)  # Output: {1, 2, 3, 4}\n",
        "\n",
        "Another Example with List Conversion:\n",
        "\n",
        "If you start with a list that contains duplicates and convert it to a set, Python will automatically remove the duplicates:\n",
        "\n",
        "my_list = [1, 2, 2, 3, 4, 4]\n",
        "my_set = set(my_list)\n",
        "\n",
        "print(my_set)  # Output: {1, 2, 3, 4}\n",
        "\n",
        "In this case, even though the list had duplicates (2 and 4), the resulting set contains each element only once.\n",
        "\n",
        "Why Sets Handle Duplicates This Way:\n",
        "\n",
        "Efficiency: Sets are optimized for membership testing and uniqueness enforcement, making them very efficient when you need a collection with no duplicates.\n",
        "\n",
        "Mathematical Set Properties: Sets in Python follow mathematical set theory principles, where sets do not allow duplicate elements."
      ],
      "metadata": {
        "id": "tINelh18VkNU"
      }
    },
    {
      "cell_type": "markdown",
      "source": [
        "#14.How does the “in” keyword work differently for lists and dictionaries?\n",
        "->The in keyword in Python is used to check for membership—whether an element exists in a collection like a list or a dictionary. However, it behaves differently for lists and dictionaries because of the way these data structures are organized.\n",
        "\n",
        "1. Using in with Lists\n",
        "\n",
        "When used with a list, the in keyword checks whether the specified element exists as an item in the list, i.e., whether the element is an element at any index in the list.\n",
        "\n",
        "Example:\n",
        "\n",
        "my_list = [1, 2, 3, 4, 5]\n",
        "\n",
        " Checking if a value is in the list\n",
        "print(3 in my_list)  # Output: True\n",
        "print(6 in my_list)  # Output: False\n",
        "\n",
        "How it works: It checks whether the value (e.g., 3) exists in the list as an element. If the element is found anywhere in the list, it returns True. Otherwise, it returns False.\n",
        "\n",
        "\n",
        "2. Using in with Dictionaries\n",
        "\n",
        "When used with a dictionary, the in keyword checks for keys rather than values. It tests whether a specific key is present in the dictionary, not the corresponding value.\n",
        "\n",
        "Example:\n",
        "\n",
        "my_dict = {\"a\": 1, \"b\": 2, \"c\": 3}\n",
        "\n",
        " Checking if a key is in the dictionary\n",
        "print(\"a\" in my_dict)  # Output: True\n",
        "print(\"d\" in my_dict)  # Output: False\n",
        "\n",
        " Checking if a value is in the dictionary using 'in'\n",
        "print(1 in my_dict.values())  # Output: True\n",
        "print(4 in my_dict.values())  # Output: False\n",
        "\n",
        "How it works: By default, in checks for the presence of keys. If the specified key (e.g., \"a\") exists in the dictionary, it returns True. If you want to check for a value instead, you need to explicitly use the .values() method to access the values.\n",
        "\n",
        "\n",
        "\n",
        "---\n",
        "\n",
        "\n",
        "To check for values in a dictionary, you would need to use .values(), .keys(), or .items():\n",
        "\n",
        "key in my_dict: Checks if the key exists.\n",
        "\n",
        "value in my_dict.values(): Checks if the value exists.\n",
        "\n",
        "key, value in my_dict.items(): Checks for key-value pairs."
      ],
      "metadata": {
        "id": "RLcsPRWEXEmj"
      }
    },
    {
      "cell_type": "markdown",
      "source": [
        "#15.Can you modify the elements of a tuple? Explain why or why not.\n",
        "->No, you cannot modify the elements of a tuple in Python because tuples are immutable. This means once a tuple is created, its contents cannot be changed, added to, or removed.\n",
        "\n",
        "Why Tuples Are Immutable:\n",
        "\n",
        "1. Immutability for Integrity: The immutability of tuples ensures that their data remains consistent and cannot be accidentally altered. This is useful when you want to guarantee that data remains unchanged throughout the program, such as when storing fixed data like geographic coordinates, function arguments, or configuration values.\n",
        "\n",
        "\n",
        "2. Performance Optimizations: Because tuples are immutable, Python can make optimizations such as memory sharing (multiple variables referencing the same tuple), which can make tuple operations faster and more memory-efficient compared to mutable data structures like lists.\n",
        "\n",
        "\n",
        "3. Hashability: Since tuples are immutable, they can be used as keys in dictionaries or as elements in sets. For this to work, the tuple's hash value must remain constant, and mutability would break this requirement.\n",
        "\n",
        "\n",
        "\n",
        "Example:\n",
        "\n",
        "my_tuple = (1, 2, 3)\n",
        "\n",
        " Attempting to modify an element (will raise an error)\n",
        " my_tuple[0] = 10  # This will raise a TypeError: 'tuple' object does not support item assignment\n",
        "\n",
        "If you try to change an element of a tuple (e.g., my_tuple[0] = 10), Python will raise a TypeError because tuples cannot be modified in this way.\n",
        "\n",
        "What You Can Do with Tuples:\n",
        "\n",
        "You can access elements of a tuple (e.g., my_tuple[0]).\n",
        "\n",
        "You can concatenate two tuples to create a new one (e.g., my_tuple + (4, 5)).\n",
        "\n",
        "You can slice tuples to create new ones (e.g., my_tuple[1:3]).\n",
        "\n",
        "\n",
        "However, if you need a data structure where elements can be modified, you should use a list instead of a tuple."
      ],
      "metadata": {
        "id": "UOQjP0AYXEjt"
      }
    },
    {
      "cell_type": "markdown",
      "source": [
        "#16.What is a nested dictionary, and give an example of its use case?\n",
        "->A nested dictionary in Python is a dictionary where the values are themselves dictionaries. This allows you to represent more complex data structures, where each key can map to another dictionary with its own key-value pairs. Nested dictionaries are useful when you need to organize data in a hierarchical or multi-level structure.\n",
        "\n",
        "Example of a Nested Dictionary:\n",
        "\n",
        "Consider a scenario where you need to store information about multiple students, and for each student, you want to store their name, age, and a list of their grades. A nested dictionary can efficiently represent this.\n",
        "\n",
        "students = {\n",
        "    \"student1\": {\n",
        "        \"name\": \"Alice\",\n",
        "        \"age\": 20,\n",
        "        \"grades\": [90, 85, 88]\n",
        "    },\n",
        "    \"student2\": {\n",
        "        \"name\": \"Bob\",\n",
        "        \"age\": 22,\n",
        "        \"grades\": [75, 80, 82]\n",
        "    },\n",
        "    \"student3\": {\n",
        "        \"name\": \"Charlie\",\n",
        "        \"age\": 21,\n",
        "        \"grades\": [95, 92, 96]\n",
        "    }\n",
        "}\n",
        "\n",
        " Accessing data in a nested dictionary\n",
        "print(students[\"student1\"][\"name\"])  # Output: Alice\n",
        "print(students[\"student2\"][\"grades\"])  # Output: [75, 80, 82]\n",
        "\n",
        "Use Case:\n",
        "\n",
        "Nested dictionaries are commonly used to represent complex real-world data structures, such as:\n",
        "\n",
        "1. Database-like Structures: In cases where you need to store data with multiple attributes for each entity, like storing information about employees, products, or customers.\n",
        "\n",
        "Example: A nested dictionary could store product details, where each product has multiple attributes like name, price, and inventory.\n",
        "\n",
        "products = {\n",
        "    \"product1\": {\"name\": \"Laptop\", \"price\": 1000, \"stock\": 50},\n",
        "    \"product2\": {\"name\": \"Phone\", \"price\": 600, \"stock\": 150}\n",
        "}\n",
        "\n",
        "\n",
        "2. Configuration Files: For settings or configurations where each category has multiple options.\n",
        "\n",
        "Example: A nested dictionary can be used to store configuration settings for an application.\n",
        "\n",
        "config = {\n",
        "    \"database\": {\"host\": \"localhost\", \"port\": 3306},\n",
        "    \"server\": {\"host\": \"0.0.0.0\", \"port\": 8080}\n",
        "}\n",
        "\n",
        "\n",
        "\n",
        "Advantages of Nested Dictionaries:\n",
        "\n",
        "Hierarchical Data Representation: They allow for the organization of data in a multi-level structure, which is useful for representing relationships between different pieces of data.\n",
        "\n",
        "Flexible: You can store various types of data (strings, numbers, lists, or other dictionaries) as values within a nested dictionary, making it highly versatile for complex data modeling."
      ],
      "metadata": {
        "id": "-nr46HPhXEhC"
      }
    },
    {
      "cell_type": "markdown",
      "source": [
        "#17.Describe the time complexity of accessing elements in a dictionary.\n",
        "->In Python, the time complexity of accessing elements in a dictionary is O(1) on average, meaning it takes constant time to retrieve a value associated with a key, regardless of the size of the dictionary.\n",
        "\n",
        "How Does Dictionary Lookup Work?\n",
        "\n",
        "Dictionaries in Python are implemented using a hash table. When you try to access a value using a key, the key is passed through a hash function, which computes a hash value that corresponds to a specific location in memory where the value is stored. This allows for fast access to the value associated with the key.\n",
        "\n",
        "Time Complexity Breakdown:\n",
        "\n",
        "Average Case (O(1)): For most dictionary operations like access, insertion, and deletion, the time complexity is O(1), meaning the operation takes constant time, regardless of the size of the dictionary.\n",
        "\n",
        "Example:\n",
        "\n",
        "my_dict = {\"name\": \"Alice\", \"age\": 30}\n",
        "print(my_dict[\"name\"])  # O(1) - retrieving the value \"Alice\"\n",
        "\n",
        "Worst Case (O(n)): In rare cases, such as during a hash collision (when two keys produce the same hash value), the time complexity could degrade to O(n), where n is the number of elements in the dictionary. However, Python uses open addressing and rehashing techniques to minimize this, so hash collisions are relatively rare and do not occur frequently in practice.\n",
        "\n",
        "Worst-case scenarios could happen when there is a large number of collisions or the hash table is poorly sized, but Python handles these edge cases quite efficiently.\n",
        "\n",
        "\n",
        "Why O(1) on Average?\n",
        "\n",
        "Efficient Hashing: The hash table uses efficient hashing algorithms to spread keys uniformly across the table, reducing the likelihood of collisions and ensuring fast access.\n",
        "\n",
        "Direct Access: After computing the hash value, accessing the corresponding value involves a direct lookup, which does not depend on the size of the dictionary.\n",
        "\n",
        "\n",
        "Summary of Time Complexity for Dictionary Operations:\n",
        "\n",
        "Accessing a value by key: O(1) on average.\n",
        "\n",
        "Inserting a key-value pair: O(1) on average.\n",
        "\n",
        "Deleting a key-value pair: O(1) on average.\n",
        "\n",
        "Worst-case complexity due to hash collisions: O(n).\n",
        "\n",
        "\n",
        "In most practical scenarios, dictionary operations are very efficient, making dictionaries a powerful data structure for tasks that involve fast lookups, insertions, and deletions."
      ],
      "metadata": {
        "id": "nf1rl-z4XEd_"
      }
    },
    {
      "cell_type": "markdown",
      "source": [
        "#18.In what situations are lists preferred over dictionaries?\n",
        "->Lists are preferred over dictionaries in Python in situations where:\n",
        "\n",
        "1. Order Matters\n",
        "\n",
        "Lists maintain the order of elements. If you need to preserve the sequence of elements or iterate through them in a specific order, a list is ideal.\n",
        "\n",
        "Example: If you're storing a sequence of tasks, events, or any ordered data (like a list of names or dates), a list is the natural choice because the order is important.\n",
        "\n",
        "\n",
        "task_list = [\"do homework\", \"buy groceries\", \"read book\"]\n",
        "\n",
        "2. You Need to Store a Sequence of Items (Not Key-Value Pairs)\n",
        "\n",
        "Lists are appropriate when you need to store a collection of identical items (all of the same type), or when there is no need for key-value pairs. Unlike dictionaries, which are designed for associating keys with values, lists store simple sequences of items.\n",
        "\n",
        "Example: If you need to store a list of numbers or strings where there is no need for keys or identifiers, a list is sufficient.\n",
        "\n",
        "\n",
        "numbers = [1, 2, 3, 4, 5]\n",
        "\n",
        "3. Data with Duplicate Elements\n",
        "\n",
        "Lists allow duplicates, whereas dictionaries only store unique keys. If you need to allow repeated elements in your data (such as a list of people’s favorite colors or repeated entries), a list is preferable.\n",
        "\n",
        "Example: A list of favorite colors might include multiple entries of the same color.\n",
        "\n",
        "\n",
        "favorite_colors = [\"blue\", \"red\", \"blue\", \"green\"]\n",
        "\n",
        "4. Index-based Access\n",
        "\n",
        "If you need to access elements based on their index (i.e., their position in the list), lists are the better choice. Lists provide fast access using integer indexing (O(1) time complexity).\n",
        "\n",
        "Example: If you have a collection of data where each element’s position matters and you need to reference them by their index, lists are ideal.\n",
        "\n",
        "\n",
        "students = [\"Alice\", \"Bob\", \"Charlie\"]\n",
        "print(students[1])  # Output: Bob\n",
        "\n",
        "5. Efficient Iteration and Simpler Data Structure\n",
        "\n",
        "Lists are simpler and often more intuitive when you don't need the additional functionality of key-value pairs. If your data structure does not require mapping between keys and values, and you just need to iterate through the items, lists offer a simpler and efficient approach.\n",
        "\n",
        "Example: If you are processing a series of numbers or strings and don't need additional metadata (like keys), a list is easier to work with.\n",
        "\n",
        "\n",
        "6. Memory Efficiency for Small Collections\n",
        "\n",
        "Lists can be more memory-efficient than dictionaries for small collections of elements, especially when you don't need the overhead of maintaining keys.\n",
        "\n",
        "Example: If you have a small dataset and don't need to access items by key, using a list can reduce memory usage compared to a dictionary.\n",
        "\n",
        "\n",
        "Summary of When to Use Lists over Dictionaries:\n",
        "\n",
        "When order of elements matters.\n",
        "\n",
        "When you need a sequence of elements without key-value pairing.\n",
        "\n",
        "When you need to allow duplicates in the collection.\n",
        "\n",
        "When you need to access elements by index.\n",
        "\n",
        "When your data structure is relatively simple and doesn't require key-based access.\n",
        "\n",
        "\n",
        "In contrast, dictionaries are more suitable for situations where you need to map unique keys to values, require fast lookups by key, or when the data is inherently key-value based."
      ],
      "metadata": {
        "id": "hLMpCMAoZ-Bd"
      }
    },
    {
      "cell_type": "markdown",
      "source": [
        "#19.Why are dictionaries considered unordered, and how does that affect data retrieval?\n",
        "->Dictionaries in Python were considered unordered up until Python 3.6. This means that, prior to Python 3.6, the order in which key-value pairs were inserted into a dictionary did not affect the order in which they were retrieved.\n",
        "\n",
        "Why Were Dictionaries Unordered?\n",
        "\n",
        "1. Hashing Mechanism: Python dictionaries are implemented using a hash table. When a key-value pair is added to the dictionary, the key is hashed to determine its position in memory. The hash table structure doesn't guarantee that the insertion order of keys is preserved because it primarily focuses on efficient key lookup, insertion, and deletion, rather than the order of the keys.\n",
        "\n",
        "\n",
        "2. Efficiency Considerations: The primary goal of dictionaries is to provide fast access to values through keys. Operations like searching, adding, or removing key-value pairs typically take O(1) time. Maintaining order introduces additional complexity and can reduce performance, so this was not a priority in earlier Python versions.\n",
        "\n",
        "\n",
        "\n",
        "Changes in Python 3.6+\n",
        "\n",
        "Starting with Python 3.6, dictionaries preserve insertion order as an implementation detail, and this behavior became part of the Python language specification in Python 3.7. Now, the order in which items are added to a dictionary is remembered, and they are retrieved in the same order. However, it's important to note that dictionaries still remain unordered in the theoretical sense because the internal organization of the data (via hashing) does not inherently depend on the order.\n",
        "\n",
        "How This Affects Data Retrieval:\n",
        "\n",
        "1. In Earlier Versions (Pre-3.6):\n",
        "\n",
        "Dictionaries do not guarantee any particular order when retrieving key-value pairs.\n",
        "\n",
        "The data was essentially unordered, meaning that when you iterated over the dictionary or retrieved its keys or values, the order could vary each time.\n",
        "\n",
        "Example:\n",
        "\n",
        "my_dict = {\"a\": 1, \"b\": 2, \"c\": 3}\n",
        "for key in my_dict:\n",
        "    print(key)\n",
        " Output could be in any order (e.g., 'b', 'a', 'c')\n",
        "\n",
        "\n",
        "\n",
        "2. In Python 3.6+:\n",
        "\n",
        "Dictionaries preserve the insertion order, meaning that when you retrieve the data, it will be in the order it was inserted.\n",
        "\n",
        "Example:\n",
        "\n",
        "my_dict = {\"a\": 1, \"b\": 2, \"c\": 3}\n",
        "for key in my_dict:\n",
        "    print(key)\n",
        " Output will always be in the order of insertion: 'a', 'b', 'c'\n",
        "\n",
        "\n",
        "\n",
        "\n",
        "Impact of Order Preservation:\n",
        "\n",
        "Data Retrieval: In Python 3.6 and later, if you iterate over a dictionary or retrieve its keys/values, the order in which elements were added will be preserved. This can be useful if the order matters (e.g., in cases where you need to process items in the same sequence as they were added).\n",
        "\n",
        "Efficient Lookup: The preservation of insertion order does not affect the speed of data retrieval. Dictionary lookups remain efficient (O(1) on average) because they still use a hash table for storing key-value pairs, but the iteration over the dictionary now respects the order in which elements were inserted.\n",
        "\n",
        "\n",
        "Summary:\n",
        "\n",
        "Before Python 3.6, dictionaries were considered unordered because the insertion order was not guaranteed.\n",
        "\n",
        "After Python 3.6, dictionaries preserve the insertion order as an implementation detail, and this behavior was officially guaranteed starting with Python 3.7.\n",
        "\n",
        "This affects data retrieval in terms of iteration—the order of keys/values is now predictable and consistent. However, the lookup speed (O(1)) remains unaffected, even with order preservation."
      ],
      "metadata": {
        "id": "YFyNHf-QZ9zO"
      }
    },
    {
      "cell_type": "markdown",
      "source": [
        "#20.Explain the difference between a list and a dictionary in terms of data retrieval.\n",
        "->The main difference between a list and a dictionary in terms of data retrieval lies in how elements are stored, accessed, and retrieved based on their respective indexing mechanisms.\n",
        "\n",
        "1. List:\n",
        "\n",
        "A list is an ordered collection of elements indexed by integers. The elements in a list are stored in a specific sequence, and each element is accessed using its index (i.e., the position of the element in the list).\n",
        "\n",
        "Data Retrieval in Lists:\n",
        "\n",
        "Index-based Access: Data retrieval in a list is based on an integer index. You access elements by specifying their position in the list (e.g., my_list[0] to access the first element).\n",
        "\n",
        "Order: Lists preserve the insertion order of elements, so the elements are retrieved in the same sequence they were added.\n",
        "\n",
        "Time Complexity: Accessing an element in a list by index has a time complexity of O(1) (constant time).\n",
        "\n",
        "\n",
        "Example:\n",
        "\n",
        "my_list = [10, 20, 30, 40]\n",
        "print(my_list[2])  # Output: 30 (accessing the element at index 2)\n",
        "\n",
        "2. Dictionary:\n",
        "\n",
        "A dictionary is an unordered collection of key-value pairs, where each key maps to a specific value. The elements are stored in a hash table, and you retrieve values by using their unique keys rather than by position.\n",
        "\n",
        "Data Retrieval in Dictionaries:\n",
        "\n",
        "Key-based Access: Data retrieval in a dictionary is based on the key, not an index. You access the value associated with a key by specifying the key (e.g., my_dict[\"name\"] to access the value of the \"name\" key).\n",
        "\n",
        "Order: Dictionaries maintain the insertion order of key-value pairs (from Python 3.7+), but they are still unordered in the sense that you cannot access elements by their position.\n",
        "\n",
        "Time Complexity: Accessing a value in a dictionary by key has a time complexity of O(1) (constant time), on average, because dictionaries are optimized for fast key lookups using hashing.\n",
        "\n",
        "\n",
        "Example:\n",
        "\n",
        "my_dict = {\"name\": \"Alice\", \"age\": 25, \"city\": \"New York\"}\n",
        "print(my_dict[\"age\"])  # Output: 25 (accessing the value for the key \"age\")\n",
        "\n",
        "\n",
        "Summary:\n",
        "\n",
        "Lists are used for ordered collections, where elements are retrieved by their position (index).\n",
        "\n",
        "Dictionaries are used for unordered collections, where elements are retrieved by their unique keys, providing fast lookups by key."
      ],
      "metadata": {
        "id": "yKl8CwoIZ9Ys"
      }
    },
    {
      "cell_type": "markdown",
      "source": [
        "#PRACTICAL QUESTIONS"
      ],
      "metadata": {
        "id": "gLcuDQLgbdD3"
      }
    },
    {
      "cell_type": "code",
      "source": [
        "#1.Write a code to create a string with your name and print it.\n",
        "name = \"kaif\"\n",
        "print(name)"
      ],
      "metadata": {
        "colab": {
          "base_uri": "https://localhost:8080/"
        },
        "id": "PSRBF7E1bjfG",
        "outputId": "422496d2-e3c5-4624-a383-7731053fa691"
      },
      "execution_count": 1,
      "outputs": [
        {
          "output_type": "stream",
          "name": "stdout",
          "text": [
            "kaif\n"
          ]
        }
      ]
    },
    {
      "cell_type": "code",
      "source": [
        "#2.Write a code to find the length of the string \"Hello World\".\n",
        "string = \"Hello World\"\n",
        "print(len(string))"
      ],
      "metadata": {
        "colab": {
          "base_uri": "https://localhost:8080/"
        },
        "id": "H2QFiCuAb5hU",
        "outputId": "9511ce9e-fee4-4b37-92d8-e617344bf241"
      },
      "execution_count": 2,
      "outputs": [
        {
          "output_type": "stream",
          "name": "stdout",
          "text": [
            "11\n"
          ]
        }
      ]
    },
    {
      "cell_type": "code",
      "source": [
        "#3.Write a code to slice the first 3 characters from the string \"Python Programming\".\n",
        "string = \"Python Programming\"\n",
        "print(string[0:3])"
      ],
      "metadata": {
        "colab": {
          "base_uri": "https://localhost:8080/"
        },
        "id": "of8qVKM8csgi",
        "outputId": "e9d6f785-1a13-41bc-9e3b-04292a9480be"
      },
      "execution_count": 3,
      "outputs": [
        {
          "output_type": "stream",
          "name": "stdout",
          "text": [
            "Pyt\n"
          ]
        }
      ]
    },
    {
      "cell_type": "code",
      "source": [
        "#4.Write a code to convert the string \"hello\" to uppercase.\n",
        "string = \"hello\"\n",
        "print(string.upper())"
      ],
      "metadata": {
        "colab": {
          "base_uri": "https://localhost:8080/"
        },
        "id": "W7zlY5R-c8lZ",
        "outputId": "f3cb5226-e8ec-4c4d-ef12-5ae22c85a68c"
      },
      "execution_count": 4,
      "outputs": [
        {
          "output_type": "stream",
          "name": "stdout",
          "text": [
            "HELLO\n"
          ]
        }
      ]
    },
    {
      "cell_type": "code",
      "source": [
        "#5.Write a code to replace the word \"apple\" with \"orange\" in the string \"I like apple\".\n",
        "string = \"apple\"\n",
        "print(string.replace(\"apple\",\"orange\"))"
      ],
      "metadata": {
        "colab": {
          "base_uri": "https://localhost:8080/"
        },
        "id": "tsTpj77bdDNW",
        "outputId": "57330666-0750-4307-e82b-7d687c44058f"
      },
      "execution_count": 6,
      "outputs": [
        {
          "output_type": "stream",
          "name": "stdout",
          "text": [
            "orange\n"
          ]
        }
      ]
    },
    {
      "cell_type": "code",
      "source": [
        "#6.Write a code to create a list with numbers 1 to 5 and print it.\n",
        "list = [1,2,3,4,5]\n",
        "print(list)"
      ],
      "metadata": {
        "colab": {
          "base_uri": "https://localhost:8080/"
        },
        "id": "PD4xlpi7dLMC",
        "outputId": "55170072-3bef-414c-d0ab-7ab32359d849"
      },
      "execution_count": 7,
      "outputs": [
        {
          "output_type": "stream",
          "name": "stdout",
          "text": [
            "[1, 2, 3, 4, 5]\n"
          ]
        }
      ]
    },
    {
      "cell_type": "code",
      "source": [
        "#7.Write a code to append the number 10 to the list [1, 2, 3, 4].\n",
        "list = [1,2,3,4]\n",
        "list.append(10)\n",
        "print(list)"
      ],
      "metadata": {
        "colab": {
          "base_uri": "https://localhost:8080/"
        },
        "id": "hqPO7BWvdWi6",
        "outputId": "25af49bd-35f6-41ba-c155-e6704cead9eb"
      },
      "execution_count": 8,
      "outputs": [
        {
          "output_type": "stream",
          "name": "stdout",
          "text": [
            "[1, 2, 3, 4, 10]\n"
          ]
        }
      ]
    },
    {
      "cell_type": "code",
      "source": [
        "#8.Write a code to remove the number 3 from the list [1, 2, 3, 4, 5].\n",
        "list = [1,2,3,4,5]\n",
        "list.remove(3)\n",
        "print(list)"
      ],
      "metadata": {
        "colab": {
          "base_uri": "https://localhost:8080/"
        },
        "id": "TCkhczJZddgA",
        "outputId": "c42ff9ac-e1c3-450c-f759-354917f1cc20"
      },
      "execution_count": 9,
      "outputs": [
        {
          "output_type": "stream",
          "name": "stdout",
          "text": [
            "[1, 2, 4, 5]\n"
          ]
        }
      ]
    },
    {
      "cell_type": "code",
      "source": [
        "#9.Write a code to access the second element in the list ['a', 'b', 'c', 'd'].\n",
        "list = ['a', 'b', 'c', 'd']\n",
        "print(list[1])"
      ],
      "metadata": {
        "colab": {
          "base_uri": "https://localhost:8080/"
        },
        "id": "5hmRHwt-dnV0",
        "outputId": "0983cd33-f182-4a72-85e6-83f186053357"
      },
      "execution_count": 10,
      "outputs": [
        {
          "output_type": "stream",
          "name": "stdout",
          "text": [
            "b\n"
          ]
        }
      ]
    },
    {
      "cell_type": "code",
      "source": [
        "#10.Write a code to reverse the list [10, 20, 30, 40, 50].\n",
        "list = [10, 20, 30, 40, 50]\n",
        "print(list[::-1])"
      ],
      "metadata": {
        "colab": {
          "base_uri": "https://localhost:8080/"
        },
        "id": "I-UEIcCMdxA_",
        "outputId": "5c57a67f-2138-45ef-e6cb-55b46f7c43be"
      },
      "execution_count": 11,
      "outputs": [
        {
          "output_type": "stream",
          "name": "stdout",
          "text": [
            "[50, 40, 30, 20, 10]\n"
          ]
        }
      ]
    },
    {
      "cell_type": "code",
      "source": [
        "#11.Write a code to create a tuple with the elements 10, 20, 30 and print it.\n",
        "tuple = (10,20,30)\n",
        "print(tuple)"
      ],
      "metadata": {
        "colab": {
          "base_uri": "https://localhost:8080/"
        },
        "id": "YHEYPlqtd4uU",
        "outputId": "0121ba15-810d-4b9e-cbe6-e23074ed2085"
      },
      "execution_count": 12,
      "outputs": [
        {
          "output_type": "stream",
          "name": "stdout",
          "text": [
            "(10, 20, 30)\n"
          ]
        }
      ]
    },
    {
      "cell_type": "code",
      "source": [
        "#12.Write a code to access the first element of the tuple ('apple', 'banana', 'cherry').\n",
        "tuple = ('apple', 'banana', 'cherry')\n",
        "print(tuple[0])"
      ],
      "metadata": {
        "colab": {
          "base_uri": "https://localhost:8080/"
        },
        "id": "9Q8TTdBYd_XK",
        "outputId": "c1e20f54-6835-4287-8aca-eb3af35183e9"
      },
      "execution_count": 13,
      "outputs": [
        {
          "output_type": "stream",
          "name": "stdout",
          "text": [
            "apple\n"
          ]
        }
      ]
    },
    {
      "cell_type": "code",
      "source": [
        "#13.Write a code to count how many times the number 2 appears in the tuple (1, 2, 3, 2, 4, 2).\n",
        "tuple = (1, 2, 3, 2, 4, 2)\n",
        "print(tuple.count(2))"
      ],
      "metadata": {
        "colab": {
          "base_uri": "https://localhost:8080/"
        },
        "id": "oMWwQfiAeGSd",
        "outputId": "2b8601f0-96a6-498d-a544-bc25d7ec9ce5"
      },
      "execution_count": 14,
      "outputs": [
        {
          "output_type": "stream",
          "name": "stdout",
          "text": [
            "3\n"
          ]
        }
      ]
    },
    {
      "cell_type": "code",
      "source": [
        "#14.Write a code to find the index of the element \"cat\" in the tuple ('dog', 'cat', 'rabbit').\n",
        "tuple = ('dog', 'cat', 'rabbit')\n",
        "print(tuple.index(\"cat\"))"
      ],
      "metadata": {
        "colab": {
          "base_uri": "https://localhost:8080/"
        },
        "id": "xCkFsgGseMzL",
        "outputId": "e8aa8adc-3609-4cf0-f135-fd24fb8b7ade"
      },
      "execution_count": 15,
      "outputs": [
        {
          "output_type": "stream",
          "name": "stdout",
          "text": [
            "1\n"
          ]
        }
      ]
    },
    {
      "cell_type": "code",
      "source": [
        "#15.Write a code to check if the element \"banana\" is in the tuple ('apple', 'orange', 'banana').\n",
        "tuple = ('apple', 'orange', 'banana')\n",
        "print(\"banana\" in tuple)"
      ],
      "metadata": {
        "colab": {
          "base_uri": "https://localhost:8080/"
        },
        "id": "j_FXcrJNeTi0",
        "outputId": "1f4f0a2b-8d27-448f-975e-155f1ba418f4"
      },
      "execution_count": 16,
      "outputs": [
        {
          "output_type": "stream",
          "name": "stdout",
          "text": [
            "True\n"
          ]
        }
      ]
    },
    {
      "cell_type": "code",
      "source": [
        "#16.Write a code to create a set with the elements 1, 2, 3, 4, 5 and print it.\n",
        "set = {1,2,3,4,5}\n",
        "print(set)"
      ],
      "metadata": {
        "colab": {
          "base_uri": "https://localhost:8080/"
        },
        "id": "5CwnqMK5ea0V",
        "outputId": "64a963c7-0ecf-47eb-e307-5ed218c5cdad"
      },
      "execution_count": 17,
      "outputs": [
        {
          "output_type": "stream",
          "name": "stdout",
          "text": [
            "{1, 2, 3, 4, 5}\n"
          ]
        }
      ]
    },
    {
      "cell_type": "code",
      "source": [
        "#17.Write a code to add the element 6 to the set {1, 2, 3, 4}.\n",
        "set = {1,2,3,4}\n",
        "set.add(6)\n",
        "print(set)\n"
      ],
      "metadata": {
        "colab": {
          "base_uri": "https://localhost:8080/"
        },
        "id": "z-ecM8M8ejil",
        "outputId": "52908d39-9e25-4f72-fff3-c05415601e44"
      },
      "execution_count": 18,
      "outputs": [
        {
          "output_type": "stream",
          "name": "stdout",
          "text": [
            "{1, 2, 3, 4, 6}\n"
          ]
        }
      ]
    }
  ]
}